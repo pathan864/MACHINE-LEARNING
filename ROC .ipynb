{
 "cells": [
  {
   "cell_type": "code",
   "execution_count": 1,
   "metadata": {},
   "outputs": [],
   "source": [
    "import pandas as pd\n",
    "import numpy as np\n",
    "from sklearn.model_selection import train_test_split\n",
    "from sklearn.ensemble import RandomForestClassifier, AdaBoostClassifier\n",
    "from sklearn.metrics import accuracy_score, classification_report\n",
    "from sklearn.metrics import confusion_matrix"
   ]
  },
  {
   "cell_type": "code",
   "execution_count": 3,
   "metadata": {},
   "outputs": [],
   "source": [
    "hr = pd.read_csv('D:/MACHINE_LEARNING/datasets-master/HR Analytics.csv')\n",
    "hr_dummies = pd.get_dummies(hr)\n",
    "\n",
    "\n",
    "train, test = train_test_split(hr_dummies,\n",
    "                               test_size=0.3,\n",
    "                               random_state=100)"
   ]
  },
  {
   "cell_type": "code",
   "execution_count": 4,
   "metadata": {},
   "outputs": [
    {
     "data": {
      "text/plain": [
       "AdaBoostClassifier(algorithm='SAMME.R', base_estimator=None,\n",
       "          learning_rate=1.0, n_estimators=300, random_state=100)"
      ]
     },
     "execution_count": 4,
     "metadata": {},
     "output_type": "execute_result"
    }
   ],
   "source": [
    "train_x = train.drop('Attrition', axis=1)\n",
    "train_y = train['Attrition']\n",
    "\n",
    "test_x = test.drop('Attrition', axis=1)\n",
    "test_y = test['Attrition']\n",
    "\n",
    "model = AdaBoostClassifier(random_state=100, n_estimators=300)\n",
    "model.fit(train_x, train_y)"
   ]
  },
  {
   "cell_type": "markdown",
   "metadata": {},
   "source": [
    "## ROC Curves"
   ]
  },
  {
   "cell_type": "code",
   "execution_count": null,
   "metadata": {},
   "outputs": [],
   "source": []
  },
  {
   "cell_type": "code",
   "execution_count": 6,
   "metadata": {},
   "outputs": [
    {
     "data": {
      "text/plain": [
       "[<matplotlib.lines.Line2D at 0x2156969dfd0>]"
      ]
     },
     "execution_count": 6,
     "metadata": {},
     "output_type": "execute_result"
    },
    {
     "data": {
      "image/png": "[encoded data removed]",
      "text/plain": [
       "<matplotlib.figure.Figure at 0x21566c9ec50>"
      ]
     },
     "metadata": {
      "needs_background": "light"
     },
     "output_type": "display_data"
    }
   ],
   "source": [
    "thresholds = []\n",
    "tpr = []\n",
    "fpr = []\n",
    "pred_probs = pd.DataFrame(model.predict_proba(test_x),\n",
    "                          columns=['Neg', 'Pos'])\n",
    "\n",
    "for threshold in np.linspace(0,1,1000):\n",
    "    pred_test = pred_probs['Pos'].apply(lambda v: 1 if v > threshold else 0)\n",
    "\n",
    "    tn, fp, fn, tp = confusion_matrix(test_y, pred_test).ravel()\n",
    "    sensitivity = (tp)/ (tp+fn)\n",
    "    specificity = tn / (tn+fp)\n",
    "    \n",
    "    thresholds.append(threshold)\n",
    "    tpr.append(sensitivity)\n",
    "    fpr.append(1-specificity)\n",
    "import matplotlib.pyplot as plt\n",
    "plt.plot(fpr, tpr)"
   ]
  },
  {
   "cell_type": "code",
   "execution_count": 7,
   "metadata": {},
   "outputs": [],
   "source": [
    "from sklearn.metrics import roc_curve\n",
    "fpr_adabst_300, tpr_adabst_300, thr_adabst_300 = roc_curve(test_y,\n",
    "                                                        pred_probs['Pos'])"
   ]
  },
  {
   "cell_type": "code",
   "execution_count": 9,
   "metadata": {},
   "outputs": [],
   "source": [
    "from sklearn.tree import DecisionTreeClassifier\n",
    "from sklearn.ensemble import RandomForestClassifier\n",
    "\n",
    "model_dt = DecisionTreeClassifier(random_state=100, max_depth=5)\n",
    "model_dt.fit(train_x, train_y)\n",
    "pred_probs_dt = pd.DataFrame(model_dt.predict_proba(test_x),\n",
    "                             columns=['Neg', 'Pos'])\n",
    "\n",
    "fpr_dt_5, tpr_dt_5, thr_dt_5 = roc_curve(test_y,pred_probs_dt['Pos'])\n",
    "\n",
    "\n",
    "model_rf = RandomForestClassifier(random_state=100, n_estimators=300)\n",
    "model_rf.fit(train_x, train_y)\n",
    "pred_probs_rf = pd.DataFrame(model_rf.predict_proba(test_x),\n",
    "                             columns=['Neg', 'Pos'])\n",
    "\n",
    "fpr_rf_300, tpr_rf_300, thr_rf_300 = roc_curve(test_y,pred_probs_rf['Pos'])"
   ]
  }
 ],
 "metadata": {
  "kernelspec": {
   "display_name": "Python 3",
   "language": "python",
   "name": "python3"
  },
  "language_info": {
   "codemirror_mode": {
    "name": "ipython",
    "version": 3
   },
   "file_extension": ".py",
   "mimetype": "text/x-python",
   "name": "python",
   "nbconvert_exporter": "python",
   "pygments_lexer": "ipython3",
   "version": "3.6.4"
  }
 },
 "nbformat": 4,
 "nbformat_minor": 2
}
